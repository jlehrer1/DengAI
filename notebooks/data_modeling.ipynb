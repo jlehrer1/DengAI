{
 "cells": [
  {
   "cell_type": "markdown",
   "metadata": {},
   "source": [
    "# Data Modeling\n",
    "\n",
    "Now that we've cleaned and explored our data, we can start working on modeling it. "
   ]
  },
  {
   "cell_type": "code",
   "execution_count": 35,
   "metadata": {},
   "outputs": [],
   "source": [
    "import pandas as pd\n",
    "import numpy as np\n",
    "\n",
    "import sklearn as sk\n",
    "from sklearn.model_selection import GridSearchCV, RandomizedSearchCV, KFold, cross_val_score\n",
    "from sklearn.linear_model import Lasso, ElasticNet\n",
    "from xgboost import XGBRegressor\n",
    "from fbprophet import Prophet\n",
    "import tensorflow as tf"
   ]
  },
  {
   "cell_type": "markdown",
   "metadata": {},
   "source": [
    "First, let's import all of our cleaned .csv files"
   ]
  },
  {
   "cell_type": "code",
   "execution_count": 34,
   "metadata": {},
   "outputs": [],
   "source": [
    "df = pd.read_csv('../data/clean/full/dengue_features_train.csv')\n",
    "df_labels = pd.read_csv('../data/clean/full/dengue_features_train.csv')\n",
    "sj_features = pd.read_csv('../data/clean/sj/sj_train_features.csv')\n",
    "sj_labels = pd.read_csv('../data/clean/sj/sj_train_labels.csv')\n",
    "\n",
    "iq_features = pd.read_csv('../data/clean/iq/iq_train_features.csv')\n",
    "iq_labels = pd.read_csv('../data/clean/iq/iq_train_labels.csv')"
   ]
  },
  {
   "cell_type": "markdown",
   "metadata": {},
   "source": [
    "Now, we can start playing around with algorithms and their hyperparameters"
   ]
  }
 ],
 "metadata": {
  "kernelspec": {
   "display_name": "Python 3",
   "language": "python",
   "name": "python3"
  },
  "language_info": {
   "codemirror_mode": {
    "name": "ipython",
    "version": 3
   },
   "file_extension": ".py",
   "mimetype": "text/x-python",
   "name": "python",
   "nbconvert_exporter": "python",
   "pygments_lexer": "ipython3",
   "version": "3.7.4"
  }
 },
 "nbformat": 4,
 "nbformat_minor": 2
}
