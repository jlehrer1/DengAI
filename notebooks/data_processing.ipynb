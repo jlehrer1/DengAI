{
 "cells": [
  {
   "cell_type": "code",
   "execution_count": 1,
   "metadata": {},
   "outputs": [],
   "source": [
    "import pandas as pd\n",
    "import numpy as np\n",
    "import sklearn as sk\n",
    "from sklearn.impute import KNNImputer\n",
    "\n",
    "df = pd.read_csv('../data/raw/dengue_features_train.csv')\n",
    "df_labels = pd.read_csv('../data/raw/dengue_labels_train.csv')\n",
    "df_test = pd.read_csv('../data/raw/dengue_features_test.csv')"
   ]
  },
  {
   "cell_type": "code",
   "execution_count": 25,
   "metadata": {},
   "outputs": [],
   "source": [
    "def impute_df(df):\n",
    "    imputer = KNNImputer()\n",
    "    for column in df.columns:\n",
    "        if df[column].isna().sum() != 0:\n",
    "            df[column] = imputer.fit_transform(df[[column]])\n",
    "    return df"
   ]
  },
  {
   "cell_type": "code",
   "execution_count": 26,
   "metadata": {},
   "outputs": [],
   "source": [
    "df = impute_df(df)\n",
    "df_labels = impute_df(df_labels)\n",
    "df_test = impute_df(df_test)"
   ]
  },
  {
   "cell_type": "code",
   "execution_count": 33,
   "metadata": {},
   "outputs": [],
   "source": [
    "df.to_csv('../data/clean/full/dengue_features_train.csv', index=False)\n",
    "df_labels.to_csv('../data/clean/full/dengue_labels_train.csv', index=False)\n",
    "df_test.to_csv('../data/clean/full/dengue_features_test.csv', index=False)"
   ]
  },
  {
   "cell_type": "code",
   "execution_count": 34,
   "metadata": {},
   "outputs": [],
   "source": [
    "sj_train_features = df.loc[df['city'] == 'sj']\n",
    "iq_train_features = df.loc[df['city'] == 'sj']\n",
    "sj_train_labels = df_labels[df_labels['city'] == 'sj']\n",
    "iq_train_labels = df_labels[df_labels['city'] == 'iq']"
   ]
  },
  {
   "cell_type": "code",
   "execution_count": 36,
   "metadata": {},
   "outputs": [],
   "source": [
    "sj_train_features.to_csv('../data/clean/sj/sj_train_features.csv', index=False)\n",
    "sj_train_labels.to_csv('../data/clean/sj/sj_train_labels.csv', index=False)\n",
    "iq_train_features.to_csv('../data/clean/iq/iq_train_features.csv', index=False)\n",
    "iq_train_labels.to_csv('../data/clean/iq/iq_train_labels.csv', index=False)"
   ]
  }
 ],
 "metadata": {
  "kernelspec": {
   "display_name": "Python 3",
   "language": "python",
   "name": "python3"
  },
  "language_info": {
   "codemirror_mode": {
    "name": "ipython",
    "version": 3
   },
   "file_extension": ".py",
   "mimetype": "text/x-python",
   "name": "python",
   "nbconvert_exporter": "python",
   "pygments_lexer": "ipython3",
   "version": "3.7.4"
  }
 },
 "nbformat": 4,
 "nbformat_minor": 2
}
