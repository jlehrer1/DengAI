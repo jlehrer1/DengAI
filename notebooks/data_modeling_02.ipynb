{
 "cells": [
  {
   "cell_type": "code",
   "execution_count": 1,
   "metadata": {},
   "outputs": [],
   "source": [
    "import pandas as pd\n",
    "import numpy as np\n",
    "\n",
    "import matplotlib.pyplot as plt\n",
    "import plotly.express as px\n",
    "\n",
    "import sklearn as sk\n",
    "from sklearn.metrics import mean_absolute_error\n",
    "from xgboost import XGBRegressor\n",
    "from fbprophet import Prophet\n",
    "from fbprophet.diagnostics import cross_validation, performance_metrics\n",
    "import tensorflow as tf"
   ]
  },
  {
   "cell_type": "code",
   "execution_count": 2,
   "metadata": {},
   "outputs": [],
   "source": [
    "df = pd.read_csv('../data/clean/full/dengue_features_train.csv')\n",
    "df_labels = pd.read_csv('../data/clean/full/dengue_labels_train.csv')\n",
    "\n",
    "sj_features = pd.read_csv('../data/clean/sj/sj_train_features.csv')\n",
    "sj_labels = pd.read_csv('../data/clean/sj/sj_train_labels.csv')\n",
    "\n",
    "iq_features = pd.read_csv('../data/clean/iq/iq_train_features.csv')\n",
    "iq_labels = pd.read_csv('../data/clean/iq/iq_train_labels.csv')\n",
    "\n",
    "sj_test = pd.read_csv('../data/clean/sj/sj_test_features.csv')\n",
    "iq_test = pd.read_csv('../data/clean/iq/iq_test_features.csv')"
   ]
  },
  {
   "cell_type": "code",
   "execution_count": null,
   "metadata": {},
   "outputs": [],
   "source": []
  }
 ],
 "metadata": {
  "kernelspec": {
   "display_name": "Python 3",
   "language": "python",
   "name": "python3"
  },
  "language_info": {
   "codemirror_mode": {
    "name": "ipython",
    "version": 3
   },
   "file_extension": ".py",
   "mimetype": "text/x-python",
   "name": "python",
   "nbconvert_exporter": "python",
   "pygments_lexer": "ipython3",
   "version": "3.7.4"
  }
 },
 "nbformat": 4,
 "nbformat_minor": 2
}
