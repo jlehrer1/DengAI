{
 "cells": [
  {
   "cell_type": "code",
   "execution_count": 1,
   "metadata": {},
   "outputs": [],
   "source": [
    "import pandas as pd\n",
    "import numpy as np\n",
    "\n",
    "import matplotlib.pyplot as plt\n",
    "import plotly.express as px\n",
    "\n",
    "import sklearn as sk\n",
    "from sklearn.metrics import mean_absolute_error\n",
    "from xgboost import XGBRegressor\n",
    "from fbprophet import Prophet\n",
    "from fbprophet.diagnostics import cross_validation, performance_metrics\n",
    "import tensorflow as tf"
   ]
  },
  {
   "cell_type": "code",
   "execution_count": 22,
   "metadata": {},
   "outputs": [],
   "source": [
    "df = pd.read_csv('../data/clean/full/dengue_features_train.csv')\n",
    "df_labels = pd.read_csv('../data/clean/full/dengue_labels_train.csv')\n",
    "df_test = pd.read_csv('../data/raw/dengue_features_test.csv')\n",
    "\n",
    "sj_features = pd.read_csv('../data/clean/sj/sj_train_features.csv')\n",
    "sj_labels = pd.read_csv('../data/clean/sj/sj_train_labels.csv')\n",
    "\n",
    "iq_features = pd.read_csv('../data/clean/iq/iq_train_features.csv')\n",
    "iq_labels = pd.read_csv('../data/clean/iq/iq_train_labels.csv')\n",
    "\n",
    "sj_test = pd.read_csv('../data/clean/sj/sj_test_features.csv')\n",
    "iq_test = pd.read_csv('../data/clean/iq/iq_test_features.csv')"
   ]
  },
  {
   "cell_type": "markdown",
   "metadata": {},
   "source": [
    "Let's explore the dataset with Facebook prophet. This is a model commonly fit to seemingly seasonal or cyclical trends. More information can be found [here](https://facebook.github.io/prophet/).\n",
    "\n",
    "It requires a special dataset, that is, one where the two columns are `[time, y]`"
   ]
  },
  {
   "cell_type": "code",
   "execution_count": 36,
   "metadata": {},
   "outputs": [],
   "source": [
    "df_m = pd.DataFrame()\n",
    "df_m['ds'] = df['week_start_date']\n",
    "df_m['y'] = df_labels['total_cases']\n",
    "\n",
    "df_m_test = pd.DataFrame()\n",
    "df_m_test['ds'] = pd.to_datetime(df_test['week_start_date'])"
   ]
  },
  {
   "cell_type": "markdown",
   "metadata": {},
   "source": [
    "Now, we can build our Prophet model"
   ]
  },
  {
   "cell_type": "code",
   "execution_count": 38,
   "metadata": {},
   "outputs": [
    {
     "name": "stderr",
     "output_type": "stream",
     "text": [
      "INFO:fbprophet:Disabling weekly seasonality. Run prophet with weekly_seasonality=True to override this.\n",
      "INFO:fbprophet:Disabling daily seasonality. Run prophet with daily_seasonality=True to override this.\n"
     ]
    }
   ],
   "source": [
    "m = Prophet()\n",
    "m.fit(df_m)\n",
    "p = m.predict(df_m_test)"
   ]
  },
  {
   "cell_type": "code",
   "execution_count": 41,
   "metadata": {},
   "outputs": [],
   "source": [
    "subm = pd.read_csv('../data/raw/submission_format.csv')\n",
    "p = np.rint(p['yhat'])\n",
    "subm['total_cases'] = p.astype(int)\n",
    "subm.to_csv('../subm3.csv', index=False)"
   ]
  }
 ],
 "metadata": {
  "kernelspec": {
   "display_name": "Python 3",
   "language": "python",
   "name": "python3"
  },
  "language_info": {
   "codemirror_mode": {
    "name": "ipython",
    "version": 3
   },
   "file_extension": ".py",
   "mimetype": "text/x-python",
   "name": "python",
   "nbconvert_exporter": "python",
   "pygments_lexer": "ipython3",
   "version": "3.7.4"
  }
 },
 "nbformat": 4,
 "nbformat_minor": 2
}
